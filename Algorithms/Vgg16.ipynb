{
 "cells": [
  {
   "cell_type": "code",
   "execution_count": 1,
   "id": "bd304afb-bcd6-44e8-afef-93d724ff57fa",
   "metadata": {},
   "outputs": [],
   "source": [
    "from tensorflow.keras.layers import Input, Dense, Flatten\n",
    "from tensorflow.keras import Model\n",
    "from tensorflow.keras.applications.vgg16 import VGG16\n",
    "from tensorflow.keras.preprocessing import image\n",
    "from tensorflow.keras.models import Sequential\n",
    "import numpy as np\n",
    "import pandas as pd"
   ]
  },
  {
   "cell_type": "code",
   "execution_count": 2,
   "id": "826eae2e-5e25-4440-a106-68a8186160cc",
   "metadata": {},
   "outputs": [],
   "source": [
    "image_size = [224, 224]"
   ]
  },
  {
   "cell_type": "code",
   "execution_count": 3,
   "id": "ff10442a-776b-4503-852b-349428c4d1a7",
   "metadata": {},
   "outputs": [],
   "source": [
    "vgg = VGG16(input_shape = image_size + [3], weights = 'imagenet', include_top =  False)"
   ]
  },
  {
   "cell_type": "code",
   "execution_count": 4,
   "id": "67bf9979-fea9-4cd0-94be-894f57d7ef10",
   "metadata": {},
   "outputs": [],
   "source": [
    "for layer in vgg.layers:\n",
    "    layer.trainable = False"
   ]
  },
  {
   "cell_type": "code",
   "execution_count": 5,
   "id": "eba16cf9-9f10-467f-9daf-00376511ddb5",
   "metadata": {},
   "outputs": [],
   "source": [
    "from glob import glob\n",
    "folders = glob('D:/Chrome Downloads/Tomato/tomato/train/*')"
   ]
  },
  {
   "cell_type": "code",
   "execution_count": 6,
   "id": "b13de6a8-f5f7-4224-9016-d4dac28c78d1",
   "metadata": {},
   "outputs": [
    {
     "data": {
      "text/plain": [
       "['D:/Chrome Downloads/Tomato/tomato/train\\\\Tomato___Bacterial_spot',\n",
       " 'D:/Chrome Downloads/Tomato/tomato/train\\\\Tomato___Early_blight',\n",
       " 'D:/Chrome Downloads/Tomato/tomato/train\\\\Tomato___healthy',\n",
       " 'D:/Chrome Downloads/Tomato/tomato/train\\\\Tomato___Late_blight',\n",
       " 'D:/Chrome Downloads/Tomato/tomato/train\\\\Tomato___Leaf_Mold',\n",
       " 'D:/Chrome Downloads/Tomato/tomato/train\\\\Tomato___Septoria_leaf_spot',\n",
       " 'D:/Chrome Downloads/Tomato/tomato/train\\\\Tomato___Spider_mites Two-spotted_spider_mite',\n",
       " 'D:/Chrome Downloads/Tomato/tomato/train\\\\Tomato___Target_Spot',\n",
       " 'D:/Chrome Downloads/Tomato/tomato/train\\\\Tomato___Tomato_mosaic_virus',\n",
       " 'D:/Chrome Downloads/Tomato/tomato/train\\\\Tomato___Tomato_Yellow_Leaf_Curl_Virus']"
      ]
     },
     "execution_count": 6,
     "metadata": {},
     "output_type": "execute_result"
    }
   ],
   "source": [
    "folders"
   ]
  },
  {
   "cell_type": "code",
   "execution_count": 7,
   "id": "2654a526-b98d-4ab4-ae3f-96f5324e33c2",
   "metadata": {},
   "outputs": [],
   "source": [
    "x = Flatten()(vgg.output)"
   ]
  },
  {
   "cell_type": "code",
   "execution_count": 8,
   "id": "a455064f-22eb-4b7c-8252-705c898a181f",
   "metadata": {},
   "outputs": [],
   "source": [
    "prediction = Dense(len(folders), activation = 'softmax')(x)"
   ]
  },
  {
   "cell_type": "code",
   "execution_count": 9,
   "id": "c9d5bf71-53c6-489a-88fd-be9c610cf6fe",
   "metadata": {},
   "outputs": [],
   "source": [
    "model = Model(inputs = vgg.input, outputs = prediction)"
   ]
  },
  {
   "cell_type": "code",
   "execution_count": 10,
   "id": "f1ab17b1-4332-4696-a135-329f2317c617",
   "metadata": {},
   "outputs": [
    {
     "name": "stdout",
     "output_type": "stream",
     "text": [
      "Model: \"model\"\n",
      "_________________________________________________________________\n",
      " Layer (type)                Output Shape              Param #   \n",
      "=================================================================\n",
      " input_1 (InputLayer)        [(None, 224, 224, 3)]     0         \n",
      "                                                                 \n",
      " block1_conv1 (Conv2D)       (None, 224, 224, 64)      1792      \n",
      "                                                                 \n",
      " block1_conv2 (Conv2D)       (None, 224, 224, 64)      36928     \n",
      "                                                                 \n",
      " block1_pool (MaxPooling2D)  (None, 112, 112, 64)      0         \n",
      "                                                                 \n",
      " block2_conv1 (Conv2D)       (None, 112, 112, 128)     73856     \n",
      "                                                                 \n",
      " block2_conv2 (Conv2D)       (None, 112, 112, 128)     147584    \n",
      "                                                                 \n",
      " block2_pool (MaxPooling2D)  (None, 56, 56, 128)       0         \n",
      "                                                                 \n",
      " block3_conv1 (Conv2D)       (None, 56, 56, 256)       295168    \n",
      "                                                                 \n",
      " block3_conv2 (Conv2D)       (None, 56, 56, 256)       590080    \n",
      "                                                                 \n",
      " block3_conv3 (Conv2D)       (None, 56, 56, 256)       590080    \n",
      "                                                                 \n",
      " block3_pool (MaxPooling2D)  (None, 28, 28, 256)       0         \n",
      "                                                                 \n",
      " block4_conv1 (Conv2D)       (None, 28, 28, 512)       1180160   \n",
      "                                                                 \n",
      " block4_conv2 (Conv2D)       (None, 28, 28, 512)       2359808   \n",
      "                                                                 \n",
      " block4_conv3 (Conv2D)       (None, 28, 28, 512)       2359808   \n",
      "                                                                 \n",
      " block4_pool (MaxPooling2D)  (None, 14, 14, 512)       0         \n",
      "                                                                 \n",
      " block5_conv1 (Conv2D)       (None, 14, 14, 512)       2359808   \n",
      "                                                                 \n",
      " block5_conv2 (Conv2D)       (None, 14, 14, 512)       2359808   \n",
      "                                                                 \n",
      " block5_conv3 (Conv2D)       (None, 14, 14, 512)       2359808   \n",
      "                                                                 \n",
      " block5_pool (MaxPooling2D)  (None, 7, 7, 512)         0         \n",
      "                                                                 \n",
      " flatten (Flatten)           (None, 25088)             0         \n",
      "                                                                 \n",
      " dense (Dense)               (None, 10)                250890    \n",
      "                                                                 \n",
      "=================================================================\n",
      "Total params: 14965578 (57.09 MB)\n",
      "Trainable params: 250890 (980.04 KB)\n",
      "Non-trainable params: 14714688 (56.13 MB)\n",
      "_________________________________________________________________\n"
     ]
    }
   ],
   "source": [
    "model.summary()"
   ]
  },
  {
   "cell_type": "code",
   "execution_count": 11,
   "id": "08bc12ba-f300-4e68-9892-1a8f2034aaa9",
   "metadata": {},
   "outputs": [],
   "source": [
    "model.compile(loss = 'categorical_crossentropy', optimizer = 'adam', metrics = ['accuracy'])"
   ]
  },
  {
   "cell_type": "code",
   "execution_count": 12,
   "id": "49d0453e-d483-418b-9119-460f9287ec50",
   "metadata": {},
   "outputs": [],
   "source": [
    "from tensorflow.keras.preprocessing.image import ImageDataGenerator"
   ]
  },
  {
   "cell_type": "code",
   "execution_count": 13,
   "id": "66581278-52a8-498b-a85e-ec5e7ae8caab",
   "metadata": {},
   "outputs": [],
   "source": [
    "train_data_gen = ImageDataGenerator(rescale = 1./255, shear_range = 0.2, zoom_range = 0.2, horizontal_flip = True)"
   ]
  },
  {
   "cell_type": "code",
   "execution_count": 14,
   "id": "52b56bc9-3f8f-497d-95e5-d425bd48f94f",
   "metadata": {},
   "outputs": [],
   "source": [
    "test_data_gen = ImageDataGenerator(rescale = 1./255)"
   ]
  },
  {
   "cell_type": "code",
   "execution_count": 15,
   "id": "d53ab841-2003-42fe-9cf3-b74f2307dcf2",
   "metadata": {},
   "outputs": [
    {
     "name": "stdout",
     "output_type": "stream",
     "text": [
      "Found 10000 images belonging to 10 classes.\n"
     ]
    }
   ],
   "source": [
    "train_set = train_data_gen.flow_from_directory('D:/Chrome Downloads/Tomato/tomato/train/', target_size = (224,224), batch_size = 32, class_mode = 'categorical')"
   ]
  },
  {
   "cell_type": "code",
   "execution_count": 16,
   "id": "fc5931c2-e446-47c9-a435-c4db1ead53dd",
   "metadata": {},
   "outputs": [
    {
     "name": "stdout",
     "output_type": "stream",
     "text": [
      "Found 1000 images belonging to 10 classes.\n"
     ]
    }
   ],
   "source": [
    "test_set = test_data_gen.flow_from_directory('D:/Chrome Downloads/Tomato/tomato/val/', target_size = (224,224), batch_size = 32, class_mode = 'categorical')"
   ]
  },
  {
   "cell_type": "code",
   "execution_count": 17,
   "id": "8d0d7037-c649-4bd2-b6ac-77445ddbf9e6",
   "metadata": {},
   "outputs": [
    {
     "name": "stderr",
     "output_type": "stream",
     "text": [
      "C:\\Users\\vinay\\AppData\\Local\\Temp\\ipykernel_13484\\306544625.py:1: UserWarning: `Model.fit_generator` is deprecated and will be removed in a future version. Please use `Model.fit`, which supports generators.\n",
      "  mod = model.fit_generator(\n"
     ]
    },
    {
     "name": "stdout",
     "output_type": "stream",
     "text": [
      "Epoch 1/10\n",
      "219/218 [==============================] - ETA: 0s - loss: 0.9591 - accuracy: 0.6781WARNING:tensorflow:Your input ran out of data; interrupting training. Make sure that your dataset or generator can generate at least `steps_per_epoch * epochs` batches (in this case, 93.75 batches). You may need to use the repeat() function when building your dataset.\n",
      "218/218 [==============================] - 913s 4s/step - loss: 0.9591 - accuracy: 0.6781 - val_loss: 0.7917 - val_accuracy: 0.7300\n",
      "Epoch 2/10\n",
      "218/218 [==============================] - 486s 2s/step - loss: 0.5590 - accuracy: 0.8109\n",
      "Epoch 3/10\n",
      "218/218 [==============================] - 480s 2s/step - loss: 0.3972 - accuracy: 0.8679\n",
      "Epoch 4/10\n",
      "218/218 [==============================] - 478s 2s/step - loss: 0.3709 - accuracy: 0.8733\n",
      "Epoch 5/10\n",
      "218/218 [==============================] - 477s 2s/step - loss: 0.3038 - accuracy: 0.8961\n",
      "Epoch 6/10\n",
      "218/218 [==============================] - 476s 2s/step - loss: 0.2858 - accuracy: 0.9033\n",
      "Epoch 7/10\n",
      "218/218 [==============================] - 478s 2s/step - loss: 0.2526 - accuracy: 0.9155\n",
      "Epoch 8/10\n",
      "218/218 [==============================] - 482s 2s/step - loss: 0.2429 - accuracy: 0.9129\n",
      "Epoch 9/10\n",
      "218/218 [==============================] - 488s 2s/step - loss: 0.2506 - accuracy: 0.9177\n",
      "Epoch 10/10\n",
      "218/218 [==============================] - 485s 2s/step - loss: 0.2366 - accuracy: 0.9185\n"
     ]
    }
   ],
   "source": [
    "mod = model.fit_generator(\n",
    "  train_set,\n",
    "  validation_data=test_set,\n",
    "  epochs=10,\n",
    "  steps_per_epoch=7000/32,\n",
    "  validation_steps=3000/32\n",
    ")"
   ]
  },
  {
   "cell_type": "code",
   "execution_count": 18,
   "id": "31ef8eb6-0e0c-441c-825e-21ace01c3934",
   "metadata": {},
   "outputs": [
    {
     "name": "stdout",
     "output_type": "stream",
     "text": [
      "32/32 [==============================] - 68s 2s/step - loss: 0.7229 - accuracy: 0.8120\n"
     ]
    },
    {
     "data": {
      "text/plain": [
       "[0.7229012846946716, 0.8119999766349792]"
      ]
     },
     "execution_count": 18,
     "metadata": {},
     "output_type": "execute_result"
    }
   ],
   "source": [
    "# Model Evaluation\n",
    "model.evaluate(test_set)"
   ]
  },
  {
   "cell_type": "code",
   "execution_count": null,
   "id": "d47e43ae-6e0a-43d9-8c49-aced5d028b32",
   "metadata": {},
   "outputs": [],
   "source": []
  }
 ],
 "metadata": {
  "kernelspec": {
   "display_name": "Python 3 (ipykernel)",
   "language": "python",
   "name": "python3"
  },
  "language_info": {
   "codemirror_mode": {
    "name": "ipython",
    "version": 3
   },
   "file_extension": ".py",
   "mimetype": "text/x-python",
   "name": "python",
   "nbconvert_exporter": "python",
   "pygments_lexer": "ipython3",
   "version": "3.10.9"
  }
 },
 "nbformat": 4,
 "nbformat_minor": 5
}
