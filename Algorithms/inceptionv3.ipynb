{
 "cells": [
  {
   "cell_type": "code",
   "execution_count": 14,
   "id": "18a90da8-aa08-4952-94f5-c257b5bfb286",
   "metadata": {},
   "outputs": [],
   "source": [
    "from tensorflow import keras\n",
    "from tensorflow.keras.utils import plot_model\n",
    "from keras.applications.inception_v3 import InceptionV3\n",
    "from glob import glob\n",
    "from keras.layers import Flatten,Dense\n",
    "from keras.models import Model\n",
    "from keras.preprocessing.image import ImageDataGenerator,img_to_array,array_to_img,load_img"
   ]
  },
  {
   "cell_type": "code",
   "execution_count": 15,
   "id": "1ec75652-3ad0-429d-9c54-65500e1691af",
   "metadata": {},
   "outputs": [],
   "source": [
    "IMAGE_SIZE = [224,224]"
   ]
  },
  {
   "cell_type": "code",
   "execution_count": 16,
   "id": "a2aec29f-743c-471a-ade2-7b8eab40ef16",
   "metadata": {},
   "outputs": [],
   "source": [
    "# Create InceptionV3 Layer\n",
    "inception = InceptionV3(include_top=False,weights='imagenet',input_shape=IMAGE_SIZE + [3])"
   ]
  },
  {
   "cell_type": "code",
   "execution_count": 17,
   "id": "9ae96a77-22dc-4639-93d2-1df205540c16",
   "metadata": {},
   "outputs": [],
   "source": [
    "for layer in inception.layers:\n",
    "  layer.trainable = False"
   ]
  },
  {
   "cell_type": "code",
   "execution_count": 18,
   "id": "ca6c5bd3-c045-448c-97f1-f56878c430cc",
   "metadata": {},
   "outputs": [],
   "source": [
    "# we will use the glob to see how many outputs / labels there are\n",
    "folders = glob('D:/Chrome Downloads/Tomato/tomato/train/*')"
   ]
  },
  {
   "cell_type": "code",
   "execution_count": 19,
   "id": "cd7cb635-b7b7-4128-ab3e-2566b92a7c37",
   "metadata": {},
   "outputs": [
    {
     "data": {
      "text/plain": [
       "['D:/Chrome Downloads/Tomato/tomato/train\\\\Tomato___Bacterial_spot',\n",
       " 'D:/Chrome Downloads/Tomato/tomato/train\\\\Tomato___Early_blight',\n",
       " 'D:/Chrome Downloads/Tomato/tomato/train\\\\Tomato___healthy',\n",
       " 'D:/Chrome Downloads/Tomato/tomato/train\\\\Tomato___Late_blight',\n",
       " 'D:/Chrome Downloads/Tomato/tomato/train\\\\Tomato___Leaf_Mold',\n",
       " 'D:/Chrome Downloads/Tomato/tomato/train\\\\Tomato___Septoria_leaf_spot',\n",
       " 'D:/Chrome Downloads/Tomato/tomato/train\\\\Tomato___Spider_mites Two-spotted_spider_mite',\n",
       " 'D:/Chrome Downloads/Tomato/tomato/train\\\\Tomato___Target_Spot',\n",
       " 'D:/Chrome Downloads/Tomato/tomato/train\\\\Tomato___Tomato_mosaic_virus',\n",
       " 'D:/Chrome Downloads/Tomato/tomato/train\\\\Tomato___Tomato_Yellow_Leaf_Curl_Virus']"
      ]
     },
     "execution_count": 19,
     "metadata": {},
     "output_type": "execute_result"
    }
   ],
   "source": [
    "folders"
   ]
  },
  {
   "cell_type": "code",
   "execution_count": 20,
   "id": "2374a0a6-7f74-4165-84c2-50d06d2cde45",
   "metadata": {},
   "outputs": [],
   "source": [
    "\n",
    "\n",
    "# Add Flatten and Dense in last layers\n",
    "x = Flatten()(inception.output)\n",
    "prediction = Dense(len(folders),activation='softmax')(x)"
   ]
  },
  {
   "cell_type": "code",
   "execution_count": 21,
   "id": "58b1f6ed-f16d-48b3-a25e-3d44dab391b3",
   "metadata": {},
   "outputs": [
    {
     "name": "stdout",
     "output_type": "stream",
     "text": [
      "You must install pydot (`pip install pydot`) and install graphviz (see instructions at https://graphviz.gitlab.io/download/) for plot_model to work.\n"
     ]
    }
   ],
   "source": [
    "# create a model with additional flatten and dense layers and then we plot it\n",
    "model = Model(inputs=inception.input,outputs = prediction)\n",
    "plot_model(model)"
   ]
  },
  {
   "cell_type": "code",
   "execution_count": 22,
   "id": "7b67ced5-a6fc-488c-a9c1-47c63f3dff45",
   "metadata": {},
   "outputs": [],
   "source": [
    "# Compile the model that we have created with adam and the loss is categorical_crossentropy because the classification is more than 2 classes\n",
    "model.compile(loss='categorical_crossentropy',optimizer='adam',metrics=['accuracy'])"
   ]
  },
  {
   "cell_type": "code",
   "execution_count": 23,
   "id": "7fb05248-d959-4e43-bf83-8991e7fe1de7",
   "metadata": {},
   "outputs": [],
   "source": [
    "# Image Augmentation\n",
    "train_datagen = ImageDataGenerator(\n",
    "    rescale=1./255,\n",
    "    shear_range=0.2,\n",
    "    horizontal_flip=True,\n",
    "    zoom_range=0.2)\n",
    "test_datagen = ImageDataGenerator(\n",
    "    rescale=1./255)\n"
   ]
  },
  {
   "cell_type": "code",
   "execution_count": 27,
   "id": "19751458-adf8-4864-ba08-d9fc7f479ad8",
   "metadata": {},
   "outputs": [
    {
     "name": "stdout",
     "output_type": "stream",
     "text": [
      "Found 10000 images belonging to 10 classes.\n",
      "Found 1000 images belonging to 10 classes.\n"
     ]
    }
   ],
   "source": [
    "# Apply Image Augmentation to Train and Test Images\n",
    "training_set = train_datagen.flow_from_directory('D:/Chrome Downloads/Tomato/tomato/train',\n",
    "                                                 target_size = (224, 224),\n",
    "                                                 batch_size = 32,\n",
    "                                                 class_mode = 'categorical')\n",
    "\n",
    "test_set = train_datagen.flow_from_directory('D:/Chrome Downloads/Tomato/tomato/val',\n",
    "                                                 target_size = (224, 224),\n",
    "                                                 batch_size = 32,\n",
    "                                                 class_mode = 'categorical')"
   ]
  },
  {
   "cell_type": "code",
   "execution_count": 28,
   "id": "7406136f-5f6a-47e6-b922-c90a0fecebbe",
   "metadata": {},
   "outputs": [],
   "source": [
    "import tensorflow as tf\n",
    "# CallBack EarlyStop\n",
    "early = tf.keras.callbacks.EarlyStopping(monitor='val_loss',patience=5)"
   ]
  },
  {
   "cell_type": "code",
   "execution_count": 33,
   "id": "12a3ad77-a9a4-4f67-ba47-ed875099de39",
   "metadata": {},
   "outputs": [
    {
     "name": "stderr",
     "output_type": "stream",
     "text": [
      "C:\\Users\\vinay\\AppData\\Local\\Temp\\ipykernel_11792\\2876287022.py:2: UserWarning: `Model.fit_generator` is deprecated and will be removed in a future version. Please use `Model.fit`, which supports generators.\n",
      "  history = model.fit_generator(\n"
     ]
    },
    {
     "name": "stdout",
     "output_type": "stream",
     "text": [
      "Epoch 1/10\n",
      "218/218 [==============================] - 181s 830ms/step - loss: 1.5237 - accuracy: 0.8908 - val_loss: 4.6389 - val_accuracy: 0.8080\n",
      "Epoch 2/10\n",
      "218/218 [==============================] - 182s 836ms/step - loss: 1.6799 - accuracy: 0.8963 - val_loss: 6.0529 - val_accuracy: 0.7350\n",
      "Epoch 3/10\n",
      "218/218 [==============================] - 180s 825ms/step - loss: 1.3636 - accuracy: 0.9019 - val_loss: 5.7559 - val_accuracy: 0.7660\n",
      "Epoch 4/10\n",
      "218/218 [==============================] - 180s 823ms/step - loss: 1.5556 - accuracy: 0.9019 - val_loss: 4.3139 - val_accuracy: 0.8100\n",
      "Epoch 5/10\n",
      "218/218 [==============================] - 179s 821ms/step - loss: 1.3328 - accuracy: 0.9061 - val_loss: 3.3794 - val_accuracy: 0.8250\n",
      "Epoch 6/10\n",
      "218/218 [==============================] - 179s 821ms/step - loss: 1.4508 - accuracy: 0.9055 - val_loss: 4.8184 - val_accuracy: 0.8020\n",
      "Epoch 7/10\n",
      "218/218 [==============================] - 179s 821ms/step - loss: 1.2925 - accuracy: 0.9151 - val_loss: 4.5874 - val_accuracy: 0.8060\n",
      "Epoch 8/10\n",
      "218/218 [==============================] - 180s 824ms/step - loss: 1.0977 - accuracy: 0.9188 - val_loss: 3.2414 - val_accuracy: 0.8410\n",
      "Epoch 9/10\n",
      "218/218 [==============================] - 180s 827ms/step - loss: 1.2305 - accuracy: 0.9149 - val_loss: 4.3739 - val_accuracy: 0.7960\n",
      "Epoch 10/10\n",
      "218/218 [==============================] - 179s 821ms/step - loss: 1.1944 - accuracy: 0.9223 - val_loss: 4.9734 - val_accuracy: 0.8080\n"
     ]
    }
   ],
   "source": [
    "# Train data\n",
    "history = model.fit_generator(\n",
    "    training_set,\n",
    "    validation_data=test_set,\n",
    "    epochs=10,\n",
    "    steps_per_epoch=218,\n",
    "    validation_steps=len(test_set),\n",
    "    callbacks=[early]\n",
    ")"
   ]
  },
  {
   "cell_type": "code",
   "execution_count": 34,
   "id": "ecf42e6e-55b9-4f4b-969f-d2a5ef241b2d",
   "metadata": {},
   "outputs": [
    {
     "name": "stdout",
     "output_type": "stream",
     "text": [
      "32/32 [==============================] - 22s 688ms/step - loss: 4.5937 - accuracy: 0.8080\n"
     ]
    },
    {
     "data": {
      "text/plain": [
       "[4.593689918518066, 0.8080000281333923]"
      ]
     },
     "execution_count": 34,
     "metadata": {},
     "output_type": "execute_result"
    }
   ],
   "source": [
    "# Model Evaluation\n",
    "model.evaluate(test_set)"
   ]
  },
  {
   "cell_type": "code",
   "execution_count": null,
   "id": "5e00660e-9b00-4398-8602-60df72ef79c8",
   "metadata": {},
   "outputs": [],
   "source": []
  }
 ],
 "metadata": {
  "kernelspec": {
   "display_name": "Python 3 (ipykernel)",
   "language": "python",
   "name": "python3"
  },
  "language_info": {
   "codemirror_mode": {
    "name": "ipython",
    "version": 3
   },
   "file_extension": ".py",
   "mimetype": "text/x-python",
   "name": "python",
   "nbconvert_exporter": "python",
   "pygments_lexer": "ipython3",
   "version": "3.10.9"
  }
 },
 "nbformat": 4,
 "nbformat_minor": 5
}
